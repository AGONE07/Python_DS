{
  "cells": [
    {
      "cell_type": "markdown",
      "source": [
        "Q1: What are data structures, and why are they important?\n",
        "\n",
        "Data structures are specialized formats for organizing, processing, and storing data. They define the way data is arranged in memory so that it can be accessed and manipulated efficiently. Different types of data structures are used based on the needs of a specific application, allowing for efficient data storage and retrieval.\n",
        "Arrays\n",
        "\n",
        "- Lists\n",
        "\n",
        "- Stacks\n",
        "\n",
        "- Queues\n",
        "\n",
        "- Trees\n",
        "\n",
        "- Graphs\n",
        "\n",
        "- Hash Tables\n",
        "\n",
        "- Sets\n",
        "\n",
        "Importance of Data Structures\n",
        "\n",
        "- Efficiency in Data Operations\n",
        "\n",
        "- Optimizing Space and Time Complexity\n",
        "\n",
        "- Problem-Solving and Algorithms\n",
        "\n",
        "- Real-World Applications\n",
        "\n",
        "- Scalability\n",
        "\n",
        "Q2: Explain the difference between mutable and immutable data types with examples.\n",
        "\n",
        "Mutable vs Immutable Data Types: Mutable data types are those whose values can be changed (modified) after the object is created. The content of the object can be altered, but the identity of the object remains the same.\n",
        "\n",
        "Examples of Mutable Data Types:\n",
        "\n",
        "Lists\n",
        "Dictionaries\n",
        "\n",
        "Immutable Data Types: Immutable data types are those whose values cannot be changed once they are created. Any modification to an immutable object results in the creation of a new object, while the original object remains unchanged.\n",
        "\n",
        "\n",
        "Q3: What are the main differences between lists and tuples in Python?\n",
        "\n",
        "Lists:\n",
        "Mutable: Can be changed (add, remove, modify elements).\n",
        "\n",
        "Syntax: []\n",
        "\n",
        "Methods: More methods like append(), remove(), etc.\n",
        "\n",
        "Use: When data needs to change (e.g., dynamic collections).\n",
        "\n",
        "Tuples:\n",
        "Immutable: Cannot be changed once created.\n",
        "\n",
        "Syntax: ()\n",
        "\n",
        "Methods: Fewer methods, mainly count() and index().\n",
        "\n",
        "Use: When data should remain constant (e.g., fixed values, dictionary keys).\n",
        "\n",
        "Key Difference: Lists are for changeable data, while tuples are for fixed, constant data.\n",
        "\n",
        "Q4: Describe how dictionaries store data.\n",
        "\n",
        "Structure: Dictionaries store data as key-value pairs.\n",
        "\n",
        "Keys: Must be unique and immutable (e.g., strings, numbers).\n",
        "\n",
        "Values: Can be any data type (mutable or immutable).\n",
        "\n",
        "Hashing: Keys are hashed to allow fast lookups and access (average O(1) time complexity).\n",
        "\n",
        "Mutable: You can add, modify, or remove key-value pairs.\n",
        "\n",
        "Unordered: Keys are not stored in any specific order (though insertion order is maintained in Python 3.7+).\n",
        "\n",
        "\n",
        "Q5: Why might you use a set instead of a list in Python?\n",
        "\n",
        "Uniqueness: Sets automatically store only unique elements, eliminating duplicates.\n",
        "\n",
        "Faster Lookup: Sets provide faster membership tests (e.g., checking if an element exists) compared to lists due to their hashing mechanism.\n",
        "\n",
        "Mathematical Operations: Sets support set operations like union, intersection, and difference, which can be useful for certain algorithms.\n",
        "\n",
        "Order: Sets are unordered, meaning the order of elements is not preserved, but this can be useful when order doesn't matter.\n",
        "\n",
        "When you need unique elements.\n",
        "When fast membership checks are important.\n",
        "When performing set operations like union or intersection.\n",
        "\n",
        "\n",
        "Q6: What is a string in Python, and how is it different from a list?\n",
        "\n",
        "String in Python: A string is a sequence of characters enclosed in single (') or double (\") quotes.\n",
        "Example: \"Hello, World!\"\n",
        "\n",
        "Difference Between a String and a List: Mutability:\n",
        "\n",
        "String: Immutable — You cannot modify individual characters in a string.\n",
        "\n",
        "List: Mutable — You can modify, add, or remove elements in a list.\n",
        "\n",
        "Data Type:\n",
        "\n",
        "String: Holds a sequence of characters (text).\n",
        "\n",
        "List: Can hold a mix of different data types (e.g., integers, strings, objects).\n",
        "\n",
        "Operations:\n",
        "String: Supports operations like slicing and concatenation, but no modifications.\n",
        "\n",
        "List: Supports operations like adding/removing items, sorting, and more.\n",
        "\n",
        "\n",
        "Q7: How do tuples ensure data integrity in Python?\n",
        "\n",
        "Immutability:\n",
        "Once created, tuples cannot be modified. This means that the data inside a tuple cannot be changed, ensuring that the data remains consistent and unaltered.\n",
        "\n",
        "Hashable:\n",
        "\n",
        "Because tuples are immutable, they can be used as keys in dictionaries and elements in sets, which requires hashability. This prevents accidental modification of data.\n",
        "\n",
        "Data Integrity:\n",
        "The immutability of tuples ensures that their contents stay intact throughout the program, preventing accidental changes to critical data.\n",
        "\n",
        "\n",
        "Q8: What is a hash table, and how does it relate to dictionaries in Python?\n",
        "\n",
        "Hash Table: A hash table is a data structure that stores key-value pairs using a hash function to compute an index (hash) where the value associated with the key is stored.\n",
        "It allows for fast retrieval of values based on keys (average O(1) time complexity).\n",
        "\n",
        "Relation to Python Dictionaries: Python dictionaries are implemented using hash tables.\n",
        "When you use a key in a dictionary, Python computes its hash to quickly find and store the corresponding value.\n",
        "\n",
        "The keys in dictionaries must be hashable (e.g., immutable types like strings or tuples).\n",
        "\n",
        "\n",
        "Q9: Can lists contain different data types in Python?\n",
        "\n",
        "Lists are heterogeneous, meaning they can hold elements of different types (e.g., integers, strings, floats, etc.).\n",
        "\n",
        "\n",
        "Q10: Explain why strings are immutable in Python.\n",
        "\n",
        "Strings are immutable in Python to ensure:\n",
        "\n",
        "Data integrity: Once created, the content can't be changed.\n",
        "\n",
        "Efficiency: Immutable objects are easier to optimize and cache.\n",
        "\n",
        "Safety: Prevents unexpected changes when shared across code.\n",
        "\n",
        "Q11: What advantages do dictionaries offer over lists for certain tasks?\n",
        "\n",
        "Advantages of Dictionaries over Lists (In Short): Faster lookups: Access values by keys in O(1) time.\n",
        "Key-value pairing: Ideal for structured data (e.g., names and scores).\n",
        "\n",
        "Improved readability: Keys make data more meaningful than index positions.\n",
        "\n",
        "\n",
        "Q12: Describe a scenario where using a tuple would be preferable over a list.\n",
        "\n",
        "A tuple is preferable when you want to store fixed, read-only data that shouldn't be changed during the program's execution.\n",
        "\n",
        "A date of birth doesn’t change, so using a tuple ensures data integrity.\n",
        "Q13: How do sets handle duplicate values in Python?\n",
        "\n",
        "Sets automatically remove duplicates. They only store unique elements — if you add duplicates, they are ignored.\n",
        "\n",
        "\n",
        "Q14: How does the “in” keyword work differently for lists and dictionaries?\n",
        "\n",
        "In lists: in checks for a value.\n",
        "In dictionaries: in checks for a key.\n",
        "\n",
        "\n",
        "Q15: Can you modify the elements of a tuple? Explain why or why not.\n",
        "\n",
        "No, you cannot modify the elements of a tuple in Python.\n",
        "\n",
        "Why? Tuples are immutable, meaning once they are created, their elements cannot be changed, added, or removed.\n",
        "\n",
        "This design ensures data integrity, especially for constant or fixed data.\n",
        "\n",
        "Q16: What is a nested dictionary, and give an example of its use case?\n",
        "\n",
        "A nested dictionary is a dictionary inside another dictionary.\n",
        "It allows you to organize complex or hierarchical data."
      ],
      "metadata": {
        "id": "BtJfwyf5z_9U"
      },
      "id": "BtJfwyf5z_9U"
    },
    {
      "cell_type": "code",
      "execution_count": null,
      "id": "c59e152b-9872-4ead-ac89-8c91c9a7ae8d",
      "metadata": {
        "colab": {
          "base_uri": "https://localhost:8080/"
        },
        "id": "c59e152b-9872-4ead-ac89-8c91c9a7ae8d",
        "outputId": "0cf7ee8f-acda-4b34-e33f-0d00fa3bef85"
      },
      "outputs": [
        {
          "output_type": "stream",
          "name": "stdout",
          "text": [
            "manoj\n"
          ]
        }
      ],
      "source": [
        " #1)Write a code to create a string with your name and print it?\n",
        "print(\"manoj\")"
      ]
    },
    {
      "cell_type": "code",
      "execution_count": null,
      "id": "246ebead-e9c4-4108-94c8-79e3fb48e04c",
      "metadata": {
        "id": "246ebead-e9c4-4108-94c8-79e3fb48e04c",
        "outputId": "558ec364-b59e-4389-a39b-0f2540a06f92"
      },
      "outputs": [
        {
          "name": "stdout",
          "output_type": "stream",
          "text": [
            "11\n"
          ]
        }
      ],
      "source": [
        "#2)Write a code to find the length of the string \"Hello World\"?\n",
        "print(len(\"hello world\"))"
      ]
    },
    {
      "cell_type": "code",
      "execution_count": null,
      "id": "bd268d4b-c3b3-461a-a998-2be1569e9746",
      "metadata": {
        "id": "bd268d4b-c3b3-461a-a998-2be1569e9746",
        "outputId": "722e392f-6c5e-4114-9bff-89d8841c23ad"
      },
      "outputs": [
        {
          "name": "stdout",
          "output_type": "stream",
          "text": [
            "Pyt\n"
          ]
        }
      ],
      "source": [
        "#3)Write a code to slice the first 3 characters from the string \"Python Programming\"?\n",
        "print(\"Python Programming\"[0:3])"
      ]
    },
    {
      "cell_type": "code",
      "execution_count": null,
      "id": "2fe13f8d-7629-47bb-944f-12ec3e54bc66",
      "metadata": {
        "id": "2fe13f8d-7629-47bb-944f-12ec3e54bc66",
        "outputId": "7102be37-ea0b-4c15-eab2-9b5d903b9cb6"
      },
      "outputs": [
        {
          "name": "stdout",
          "output_type": "stream",
          "text": [
            "HELLO\n"
          ]
        }
      ],
      "source": [
        "#4)Write a code to convert the string \"hello\" to uppercase?\n",
        "print(\"hello\".upper())"
      ]
    },
    {
      "cell_type": "code",
      "execution_count": null,
      "id": "1a81f279-3751-45ee-b1e9-3ccba38d5129",
      "metadata": {
        "id": "1a81f279-3751-45ee-b1e9-3ccba38d5129",
        "outputId": "879cdcc7-c566-4e29-8a22-034802b3e176"
      },
      "outputs": [
        {
          "data": {
            "text/plain": [
              "'i like orange'"
            ]
          },
          "execution_count": 38,
          "metadata": {},
          "output_type": "execute_result"
        }
      ],
      "source": [
        " #5)Write a code to replace the word \"apple\" with \"orange\" in the string \"I like apple\n",
        "l=(\"i like apple\")\n",
        "l.replace(\"apple\",\"orange\")"
      ]
    },
    {
      "cell_type": "code",
      "execution_count": null,
      "id": "9295d75a-4c15-4975-bfce-ec9a41889e97",
      "metadata": {
        "id": "9295d75a-4c15-4975-bfce-ec9a41889e97",
        "outputId": "81074bc4-b9c5-4f32-82df-0e6b59cf6512"
      },
      "outputs": [
        {
          "name": "stdout",
          "output_type": "stream",
          "text": [
            "[1, 2, 3, 4, 5]\n"
          ]
        }
      ],
      "source": [
        "#6)Write a code to create a list with numbers 1 to 5 and print it?\n",
        "print([1, 2, 3, 4, 5])"
      ]
    },
    {
      "cell_type": "code",
      "execution_count": null,
      "id": "3a1f8737-326a-4d4d-af81-828235f2cc57",
      "metadata": {
        "id": "3a1f8737-326a-4d4d-af81-828235f2cc57",
        "outputId": "e2e99b91-202b-41ba-8e0b-3b7bc6c1322d"
      },
      "outputs": [
        {
          "data": {
            "text/plain": [
              "['1,2,3,4,5']"
            ]
          },
          "execution_count": 48,
          "metadata": {},
          "output_type": "execute_result"
        }
      ],
      "source": [
        "print"
      ]
    },
    {
      "cell_type": "code",
      "execution_count": null,
      "id": "6cca68ca-6be4-4296-82e3-d4050fe7d0f2",
      "metadata": {
        "id": "6cca68ca-6be4-4296-82e3-d4050fe7d0f2"
      },
      "outputs": [],
      "source": [
        "#7)Write a code to append the number 10 to the list [1, 2, 3, 4]?\n",
        "list=[1,2,3,4]\n",
        "list.append(10)"
      ]
    },
    {
      "cell_type": "code",
      "execution_count": null,
      "id": "c846ef4e-c3e8-4772-b72d-bf61de0ff924",
      "metadata": {
        "id": "c846ef4e-c3e8-4772-b72d-bf61de0ff924",
        "outputId": "b3820590-4c65-4693-af2e-064d05356d43"
      },
      "outputs": [
        {
          "data": {
            "text/plain": [
              "[1, 2, 3, 4, 10]"
            ]
          },
          "execution_count": 54,
          "metadata": {},
          "output_type": "execute_result"
        }
      ],
      "source": [
        "list"
      ]
    },
    {
      "cell_type": "code",
      "execution_count": null,
      "id": "7eec3351-1ebb-43d3-b37e-ce35255ef400",
      "metadata": {
        "id": "7eec3351-1ebb-43d3-b37e-ce35255ef400"
      },
      "outputs": [],
      "source": [
        "#8)Write a code to remove the number 3 from the list [1, 2, 3, 4, 5]?\n",
        "l=[1,2,3,4,5]\n",
        "l.remove(3)"
      ]
    },
    {
      "cell_type": "code",
      "execution_count": null,
      "id": "3b7a05cc-cd6c-4263-a91c-c741bafb3066",
      "metadata": {
        "id": "3b7a05cc-cd6c-4263-a91c-c741bafb3066",
        "outputId": "d4e837e9-4fa7-4ea0-93ff-0d62dc906c5d"
      },
      "outputs": [
        {
          "data": {
            "text/plain": [
              "[1, 2, 4, 5]"
            ]
          },
          "execution_count": 60,
          "metadata": {},
          "output_type": "execute_result"
        }
      ],
      "source": [
        "l"
      ]
    },
    {
      "cell_type": "code",
      "execution_count": null,
      "id": "a9c3f712-487d-45ae-91d8-a9054e506bf7",
      "metadata": {
        "id": "a9c3f712-487d-45ae-91d8-a9054e506bf7",
        "outputId": "5171c6d6-0097-4bbd-9351-84a2c762f210"
      },
      "outputs": [
        {
          "name": "stdout",
          "output_type": "stream",
          "text": [
            "b\n"
          ]
        }
      ],
      "source": [
        "#9)Write a code to access the second element in the list ['a', 'b', 'c', 'd']?\n",
        "l=[\"a\",\"b\",\"c\",\"d\"]\n",
        "print(l[1])"
      ]
    },
    {
      "cell_type": "code",
      "execution_count": null,
      "id": "0d88e355-92ef-46a9-a564-edb0e8efe7a6",
      "metadata": {
        "id": "0d88e355-92ef-46a9-a564-edb0e8efe7a6",
        "outputId": "531e2516-fb90-48df-e60d-4df66e9e3b0c"
      },
      "outputs": [
        {
          "name": "stdout",
          "output_type": "stream",
          "text": [
            "[50, 40, 30, 20, 10]\n"
          ]
        }
      ],
      "source": [
        "#10)Write a code to reverse the list [10, 20, 30, 40, 50]?\n",
        "number=[10,20,30,40,50]\n",
        "number.reverse()\n",
        "print(number)"
      ]
    },
    {
      "cell_type": "code",
      "execution_count": null,
      "id": "0ab40d00-7986-4eba-9531-926621ce0c5f",
      "metadata": {
        "id": "0ab40d00-7986-4eba-9531-926621ce0c5f",
        "outputId": "aa18e3aa-917f-4b14-d1fc-b729c8b77b4e"
      },
      "outputs": [
        {
          "name": "stdout",
          "output_type": "stream",
          "text": [
            "(100, 200, 300)\n"
          ]
        }
      ],
      "source": [
        "#11)Write a code to create a tuple with the elements 100, 200, 300 and print it?\n",
        "t=(100,200,300)\n",
        "print(t)"
      ]
    },
    {
      "cell_type": "code",
      "execution_count": null,
      "id": "e18bdc8d-4e9e-4c36-a48b-385cead4313b",
      "metadata": {
        "id": "e18bdc8d-4e9e-4c36-a48b-385cead4313b",
        "outputId": "061ab10a-3937-4303-e9fa-074d92d53f74"
      },
      "outputs": [
        {
          "name": "stdout",
          "output_type": "stream",
          "text": [
            "green\n"
          ]
        }
      ],
      "source": [
        "#12)Write a code to access the second-to-last element of the tuple ('red', 'green', 'blue', 'yellow')?\n",
        "t=('red','green','yellow')\n",
        "print(t[-2])"
      ]
    },
    {
      "cell_type": "code",
      "execution_count": null,
      "id": "7a00633e-275d-4999-9ac1-e90af3e98a55",
      "metadata": {
        "id": "7a00633e-275d-4999-9ac1-e90af3e98a55",
        "outputId": "71946151-8497-45f7-e0f6-9ca2a97f93b6"
      },
      "outputs": [
        {
          "name": "stdout",
          "output_type": "stream",
          "text": [
            "5\n"
          ]
        }
      ],
      "source": [
        " #13)Write a code to find the minimum number in the tuple (10, 20, 5, 15)?\n",
        "t=(10,20,5,15)\n",
        "print(min(t))"
      ]
    },
    {
      "cell_type": "code",
      "execution_count": null,
      "id": "04ff229b-d4c7-4aa7-8d2e-45af28a6ea03",
      "metadata": {
        "id": "04ff229b-d4c7-4aa7-8d2e-45af28a6ea03",
        "outputId": "dca670eb-66e4-472e-a973-756fed11ce3b"
      },
      "outputs": [
        {
          "name": "stdout",
          "output_type": "stream",
          "text": [
            "1\n"
          ]
        }
      ],
      "source": [
        "#14)Write a code to find the index of the element \"cat\" in the tuple ('dog', 'cat', 'rabbit')?\n",
        "animal=(\"dog\",\"cat\",\"rabbit\")\n",
        "print(animal.index(\"cat\"))\n"
      ]
    },
    {
      "cell_type": "code",
      "execution_count": null,
      "id": "243d48c7-2b91-4afe-8700-6bac715b31d6",
      "metadata": {
        "id": "243d48c7-2b91-4afe-8700-6bac715b31d6",
        "outputId": "eab5be89-7b1e-472c-9408-5493648d1c3d"
      },
      "outputs": [
        {
          "name": "stdout",
          "output_type": "stream",
          "text": [
            "False\n"
          ]
        }
      ],
      "source": [
        "#15)Write a code to create a tuple containing three different fruits and check if \"kiwi\" is in it.?\n",
        "fruit=(\"apple\",\"mango\",\"watermelon\")\n",
        "print(\"kiwi\"in t)\n"
      ]
    },
    {
      "cell_type": "code",
      "execution_count": null,
      "id": "26317e24-28f9-4f61-9f47-cf4da02f7a0c",
      "metadata": {
        "id": "26317e24-28f9-4f61-9f47-cf4da02f7a0c",
        "outputId": "c098a702-7cfd-451e-897b-e00e5704add2"
      },
      "outputs": [
        {
          "name": "stdout",
          "output_type": "stream",
          "text": [
            "('a', 'b', 'c')\n"
          ]
        }
      ],
      "source": [
        "#16)Write a code to create a set with the elements 'a', 'b', 'c' and print it?\n",
        "set=(\"a\",\"b\",\"c\")\n",
        "print(set)"
      ]
    },
    {
      "cell_type": "code",
      "execution_count": null,
      "id": "de76193f-9b0e-4fb7-a9b7-8d7b1bc3a2ac",
      "metadata": {
        "id": "de76193f-9b0e-4fb7-a9b7-8d7b1bc3a2ac",
        "outputId": "c99d4565-2e17-4485-ed69-5cdc9dee54af"
      },
      "outputs": [
        {
          "name": "stdout",
          "output_type": "stream",
          "text": [
            "set()\n"
          ]
        }
      ],
      "source": [
        "#17)Write a code to clear all elements from the set {1, 2, 3, 4, 5}?\n",
        "s={1,2,3,4,5}\n",
        "s.clear()\n",
        "print(s)"
      ]
    },
    {
      "cell_type": "code",
      "execution_count": null,
      "id": "fdf97cc5-9310-4715-b460-31b62f6e4f43",
      "metadata": {
        "id": "fdf97cc5-9310-4715-b460-31b62f6e4f43",
        "outputId": "32d5ec49-7dfa-447f-d7d5-d7f3a07cc5a5"
      },
      "outputs": [
        {
          "name": "stdout",
          "output_type": "stream",
          "text": [
            "{1, 2, 3}\n"
          ]
        }
      ],
      "source": [
        "#18)Write a code to remove the element 4 from the set {1, 2, 3, 4}?\n",
        "set={1,2,3,4}\n",
        "set.remove(4)\n",
        "print(set)"
      ]
    },
    {
      "cell_type": "code",
      "execution_count": null,
      "id": "c732d100-5413-4c84-a8b4-5e74b5d54e7c",
      "metadata": {
        "id": "c732d100-5413-4c84-a8b4-5e74b5d54e7c",
        "outputId": "eea107d3-76b8-4aea-adb2-052a4ea84841"
      },
      "outputs": [
        {
          "name": "stdout",
          "output_type": "stream",
          "text": [
            "{1, 2, 3, 4, 5}\n"
          ]
        }
      ],
      "source": [
        "#19)Write a code to find the union of two sets {1, 2, 3} and {3, 4, 5}?\n",
        "set1={1,2,3}\n",
        "set2={3,4,5}\n",
        "print(set1.union(set2))"
      ]
    },
    {
      "cell_type": "code",
      "execution_count": null,
      "id": "1fa5727f-2419-48ce-9188-0b1c467325a4",
      "metadata": {
        "id": "1fa5727f-2419-48ce-9188-0b1c467325a4",
        "outputId": "c0ea513f-7fe6-4665-9002-233d1362f0e9"
      },
      "outputs": [
        {
          "name": "stdout",
          "output_type": "stream",
          "text": [
            "{2, 3}\n"
          ]
        }
      ],
      "source": [
        "#20)Write a code to find the intersection of two sets {1, 2, 3} and {2, 3, 4}?\n",
        "set1={1,2,3}\n",
        "set2={2,3,4}\n",
        "print(set1.intersection(set2))"
      ]
    },
    {
      "cell_type": "code",
      "execution_count": null,
      "id": "8eb72050-b9df-4666-a957-e65f42382b86",
      "metadata": {
        "id": "8eb72050-b9df-4666-a957-e65f42382b86",
        "outputId": "46f3e0a5-c701-4914-ba74-0217f5601ec6"
      },
      "outputs": [
        {
          "name": "stdout",
          "output_type": "stream",
          "text": [
            "{'name': 'harsh', 'age': 25, 'city': 'beawar'}\n"
          ]
        }
      ],
      "source": [
        "#21)Write a code to create a dictionary with the keys \"name\", \"age\", and \"city\", and print it?\n",
        "d={\"name\":\"harsh\",\"age\":25,\"city\":\"beawar\"}\n",
        "print(d)"
      ]
    },
    {
      "cell_type": "code",
      "execution_count": null,
      "id": "9dc839d1-a2c1-4d11-b3e4-37dc5e368240",
      "metadata": {
        "id": "9dc839d1-a2c1-4d11-b3e4-37dc5e368240",
        "outputId": "ce2169e3-2767-4373-fcd2-0c92e27c077f"
      },
      "outputs": [
        {
          "name": "stdout",
          "output_type": "stream",
          "text": [
            "{'name': 'john', 'age': 25, 'country': 'usa'}\n"
          ]
        }
      ],
      "source": [
        "#22)Write a code to add a new key-value pair \"country\": \"USA\" to the dictionary {'name': 'John', 'age': 25}?\n",
        "d={\"name\":\"john\",\"age\":25}\n",
        "d[\"country\"]=\"usa\"\n",
        "print(d)"
      ]
    },
    {
      "cell_type": "code",
      "execution_count": null,
      "id": "8b5fcc3c-f8b6-4e3a-bd4a-708da7ac1300",
      "metadata": {
        "id": "8b5fcc3c-f8b6-4e3a-bd4a-708da7ac1300",
        "outputId": "6efa37ec-ad74-4e5e-d7bf-dae8745458e9"
      },
      "outputs": [
        {
          "name": "stdout",
          "output_type": "stream",
          "text": [
            "Alice\n"
          ]
        }
      ],
      "source": [
        "#23)Write a code to access the value associated with the key \"name\" in the dictionary {'name': 'Alice', 'age': 30}.?\n",
        "d={'name': 'Alice', 'age': 30}\n",
        "print(d[\"name\"])"
      ]
    },
    {
      "cell_type": "code",
      "execution_count": null,
      "id": "f4d12458-7400-4021-9ce7-8a186635d1d8",
      "metadata": {
        "id": "f4d12458-7400-4021-9ce7-8a186635d1d8",
        "outputId": "1e3b5266-9a27-4d3a-c996-e32b1d6c25ef"
      },
      "outputs": [
        {
          "name": "stdout",
          "output_type": "stream",
          "text": [
            "{'name': 'Bob', 'city': 'New York'}\n"
          ]
        }
      ],
      "source": [
        "#24) Write a code to remove the key \"age\" from the dictionary {'name': 'Bob', 'age': 22, 'city': 'New York'}?\n",
        "d= {'name': 'Bob', 'age': 22, 'city': 'New York'}\n",
        "del d[\"age\"]\n",
        "print(d)"
      ]
    },
    {
      "cell_type": "code",
      "execution_count": null,
      "id": "852ff015-8f22-4291-91be-fec4a6d28bb0",
      "metadata": {
        "id": "852ff015-8f22-4291-91be-fec4a6d28bb0",
        "outputId": "2c8bc531-3e2f-4194-ff04-18d48135ce03"
      },
      "outputs": [
        {
          "name": "stdout",
          "output_type": "stream",
          "text": [
            "True\n"
          ]
        }
      ],
      "source": [
        "#25) Write a code to check if the key \"city\" exists in the dictionary {'name': 'Alice', 'city': 'Paris'}?\n",
        "d={'name': 'Alice', 'city': 'Paris'}\n",
        "print(\"city\" in d)"
      ]
    },
    {
      "cell_type": "code",
      "execution_count": null,
      "id": "3ab3803a-fb47-4323-94d5-907f57eb410d",
      "metadata": {
        "id": "3ab3803a-fb47-4323-94d5-907f57eb410d",
        "outputId": "34a1c43a-7c58-436d-ebe2-bff2214420bd"
      },
      "outputs": [
        {
          "name": "stdout",
          "output_type": "stream",
          "text": [
            "[1, 2] (3, 4) {'a': 5}\n"
          ]
        }
      ],
      "source": [
        "#26)Write a code to create a list, a tuple, and a dictionary, and print them all?\n",
        "l=[1,2]\n",
        "t=(3,4)\n",
        "d={\"a\":5}\n",
        "print(l,t,d)"
      ]
    },
    {
      "cell_type": "code",
      "execution_count": null,
      "id": "04d2a780-ca2d-42d9-9c09-421fd9796ff1",
      "metadata": {
        "id": "04d2a780-ca2d-42d9-9c09-421fd9796ff1",
        "outputId": "5322868f-ef20-444d-fdde-c3bd9c8bb17e"
      },
      "outputs": [
        {
          "name": "stdout",
          "output_type": "stream",
          "text": [
            "[27, 35, 39, 57, 68]\n"
          ]
        }
      ],
      "source": [
        "#27)Write a code to create a list of 5 random numbers between 1 and 100, sort it in ascending order, and print the  result.(replaced)?\n",
        "l = random.sample(range(1, 101), 5)\n",
        "l.sort()\n",
        "print(l)"
      ]
    },
    {
      "cell_type": "code",
      "execution_count": null,
      "id": "bab3f23c-5f76-4d56-a584-4792d265dad4",
      "metadata": {
        "id": "bab3f23c-5f76-4d56-a584-4792d265dad4",
        "outputId": "1e9d0ad1-ab5d-442f-a710-2328c0dad743"
      },
      "outputs": [
        {
          "name": "stdout",
          "output_type": "stream",
          "text": [
            "date\n"
          ]
        }
      ],
      "source": [
        "#28) Write a code to create a list with strings and print the element at the third index?\n",
        "l = [\"apple\", \"banana\", \"cherry\", \"date\"]\n",
        "print(l[3])"
      ]
    },
    {
      "cell_type": "code",
      "execution_count": null,
      "id": "c5c00a8c-e233-4be4-a447-71d38ff5642b",
      "metadata": {
        "id": "c5c00a8c-e233-4be4-a447-71d38ff5642b",
        "outputId": "ead46246-523a-4eb7-c23a-6e88df55ea41"
      },
      "outputs": [
        {
          "name": "stdout",
          "output_type": "stream",
          "text": [
            "{'a': 1, 'b': 2}\n"
          ]
        }
      ],
      "source": [
        "#29) Write a code to combine two dictionaries into one and print the result?\n",
        "d1 = {\"a\": 1}; d2 = {\"b\": 2}\n",
        "d1.update(d2)\n",
        "print(d1)"
      ]
    },
    {
      "cell_type": "code",
      "execution_count": null,
      "id": "37594574-18aa-49d5-9642-32bc02aaae58",
      "metadata": {
        "id": "37594574-18aa-49d5-9642-32bc02aaae58",
        "outputId": "807a0d26-ff2c-41ba-b7dd-1f58786687c5",
        "colab": {
          "base_uri": "https://localhost:8080/"
        }
      },
      "outputs": [
        {
          "output_type": "stream",
          "name": "stdout",
          "text": [
            "{'b', 'a'}\n"
          ]
        }
      ],
      "source": [
        "#30)Write a code to convert a list of strings into a set?\n",
        "l = [\"a\", \"b\", \"a\"]\n",
        "s = set(l)\n",
        "print(s)"
      ]
    },
    {
      "cell_type": "code",
      "execution_count": null,
      "id": "58700f51-fb2f-49e2-b5b3-62cd37b54f2e",
      "metadata": {
        "id": "58700f51-fb2f-49e2-b5b3-62cd37b54f2e"
      },
      "outputs": [],
      "source": []
    }
  ],
  "metadata": {
    "kernelspec": {
      "display_name": "Python 3 (ipykernel)",
      "language": "python",
      "name": "python3"
    },
    "language_info": {
      "codemirror_mode": {
        "name": "ipython",
        "version": 3
      },
      "file_extension": ".py",
      "mimetype": "text/x-python",
      "name": "python",
      "nbconvert_exporter": "python",
      "pygments_lexer": "ipython3",
      "version": "3.12.7"
    },
    "colab": {
      "provenance": []
    }
  },
  "nbformat": 4,
  "nbformat_minor": 5
}